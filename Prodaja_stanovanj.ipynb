{
 "cells": [
  {
   "cell_type": "markdown",
   "metadata": {},
   "source": [
    "# PRODAJA STANOVANJ"
   ]
  },
  {
   "cell_type": "markdown",
   "metadata": {},
   "source": [
    "# 1. Naložimo podatke"
   ]
  },
  {
   "cell_type": "code",
   "execution_count": 71,
   "metadata": {
    "collapsed": false,
    "slideshow": {
     "slide_type": "-"
    }
   },
   "outputs": [
    {
     "data": {
      "text/html": [
       "<div>\n",
       "<table border=\"1\" class=\"dataframe\">\n",
       "  <thead>\n",
       "    <tr style=\"text-align: right;\">\n",
       "      <th></th>\n",
       "      <th>id</th>\n",
       "      <th>naslov</th>\n",
       "      <th>cena</th>\n",
       "      <th>velikost</th>\n",
       "      <th>prodajalec</th>\n",
       "      <th>leto</th>\n",
       "      <th>nadstropje</th>\n",
       "    </tr>\n",
       "  </thead>\n",
       "  <tbody>\n",
       "    <tr>\n",
       "      <th>0</th>\n",
       "      <td>5952316</td>\n",
       "      <td>LJ. MOSTE</td>\n",
       "      <td>200000.00</td>\n",
       "      <td>118.60</td>\n",
       "      <td>Kristal nepremičnine d.o.o.</td>\n",
       "      <td>1900</td>\n",
       "      <td>P</td>\n",
       "    </tr>\n",
       "    <tr>\n",
       "      <th>1</th>\n",
       "      <td>5797965</td>\n",
       "      <td>TACEN</td>\n",
       "      <td>200000.00</td>\n",
       "      <td>122.28</td>\n",
       "      <td>REMAX Vogal, Nepremičninska družba, d.o.o.</td>\n",
       "      <td>2009</td>\n",
       "      <td>2</td>\n",
       "    </tr>\n",
       "    <tr>\n",
       "      <th>2</th>\n",
       "      <td>5929181</td>\n",
       "      <td>LJ. BEŽIGRAD, ZUPANČIČEVA JAMA - VELIKA TERASA</td>\n",
       "      <td>200000.00</td>\n",
       "      <td>58.60</td>\n",
       "      <td>Eventum d.o.o.</td>\n",
       "      <td>2005</td>\n",
       "      <td>VP</td>\n",
       "    </tr>\n",
       "    <tr>\n",
       "      <th>3</th>\n",
       "      <td>6054338</td>\n",
       "      <td>LJ. MOSTE, ZALOG</td>\n",
       "      <td>200000.00</td>\n",
       "      <td>108.30</td>\n",
       "      <td>Rocco nepremičnine d.o.o.</td>\n",
       "      <td>1960</td>\n",
       "      <td>1</td>\n",
       "    </tr>\n",
       "    <tr>\n",
       "      <th>4</th>\n",
       "      <td>6060505</td>\n",
       "      <td>VIŽMARJE, GUNCLJE</td>\n",
       "      <td>200000.00</td>\n",
       "      <td>164.00</td>\n",
       "      <td>Mreža nepremičnin d.o.o.</td>\n",
       "      <td>2000</td>\n",
       "      <td>P+1</td>\n",
       "    </tr>\n",
       "    <tr>\n",
       "      <th>5</th>\n",
       "      <td>5938232</td>\n",
       "      <td>LJ. ŠIŠKA, MALGAJEVA 2</td>\n",
       "      <td>200000.00</td>\n",
       "      <td>110.00</td>\n",
       "      <td>Zasebna ponudba</td>\n",
       "      <td>1986</td>\n",
       "      <td>4</td>\n",
       "    </tr>\n",
       "    <tr>\n",
       "      <th>6</th>\n",
       "      <td>5966303</td>\n",
       "      <td>ČRNUČE, SPODNJE OKROGARJEVA 2</td>\n",
       "      <td>199365.19</td>\n",
       "      <td>99.06</td>\n",
       "      <td>LIN nepremičnine d.o.o.</td>\n",
       "      <td>2017</td>\n",
       "      <td>2</td>\n",
       "    </tr>\n",
       "    <tr>\n",
       "      <th>7</th>\n",
       "      <td>6034990</td>\n",
       "      <td>TRNOVO, TRNOVSKA VRATA</td>\n",
       "      <td>199000.00</td>\n",
       "      <td>50.90</td>\n",
       "      <td>Nepremičnine M8, Lea Kavalič s.p.</td>\n",
       "      <td>2005</td>\n",
       "      <td>1</td>\n",
       "    </tr>\n",
       "    <tr>\n",
       "      <th>8</th>\n",
       "      <td>6047368</td>\n",
       "      <td>LJ. VIČ, VELIK ATRIJ</td>\n",
       "      <td>199000.00</td>\n",
       "      <td>89.00</td>\n",
       "      <td>Euromark-a d.o.o.</td>\n",
       "      <td>2008</td>\n",
       "      <td>ni podatka</td>\n",
       "    </tr>\n",
       "    <tr>\n",
       "      <th>9</th>\n",
       "      <td>6061555</td>\n",
       "      <td>LJ. BEŽIGRAD</td>\n",
       "      <td>199000.00</td>\n",
       "      <td>90.00</td>\n",
       "      <td>MA - nepremičninska družba, Marko Alič s.p.</td>\n",
       "      <td>1957</td>\n",
       "      <td>2</td>\n",
       "    </tr>\n",
       "    <tr>\n",
       "      <th>...</th>\n",
       "      <td>...</td>\n",
       "      <td>...</td>\n",
       "      <td>...</td>\n",
       "      <td>...</td>\n",
       "      <td>...</td>\n",
       "      <td>...</td>\n",
       "      <td>...</td>\n",
       "    </tr>\n",
       "    <tr>\n",
       "      <th>606</th>\n",
       "      <td>6052399</td>\n",
       "      <td>DRAVLJE, CELOVŠKA CESTA BIVŠI HOTEL LIPA</td>\n",
       "      <td>45000.00</td>\n",
       "      <td>19.20</td>\n",
       "      <td>Zasebna ponudba</td>\n",
       "      <td>1983</td>\n",
       "      <td>2</td>\n",
       "    </tr>\n",
       "    <tr>\n",
       "      <th>607</th>\n",
       "      <td>6061600</td>\n",
       "      <td>LJ. ŠIŠKA</td>\n",
       "      <td>45000.00</td>\n",
       "      <td>32.80</td>\n",
       "      <td>LGP d.o.o.</td>\n",
       "      <td>1965</td>\n",
       "      <td>5</td>\n",
       "    </tr>\n",
       "    <tr>\n",
       "      <th>608</th>\n",
       "      <td>6050086</td>\n",
       "      <td>LJ. ŠIŠKA</td>\n",
       "      <td>42000.00</td>\n",
       "      <td>20.50</td>\n",
       "      <td>DVOREC POSREDNIŠKA HIŠA d.o.o.</td>\n",
       "      <td>1933</td>\n",
       "      <td>PK</td>\n",
       "    </tr>\n",
       "    <tr>\n",
       "      <th>609</th>\n",
       "      <td>6029756</td>\n",
       "      <td>LJ. ŠIŠKA, ALEŠOVČEVA ULICA</td>\n",
       "      <td>37000.00</td>\n",
       "      <td>19.70</td>\n",
       "      <td>Rojal invest d.o.o.</td>\n",
       "      <td>1961</td>\n",
       "      <td>M</td>\n",
       "    </tr>\n",
       "    <tr>\n",
       "      <th>610</th>\n",
       "      <td>6054902</td>\n",
       "      <td>POLJE</td>\n",
       "      <td>33000.00</td>\n",
       "      <td>39.00</td>\n",
       "      <td>Zasebna ponudba</td>\n",
       "      <td>1935</td>\n",
       "      <td>PK</td>\n",
       "    </tr>\n",
       "    <tr>\n",
       "      <th>611</th>\n",
       "      <td>6051293</td>\n",
       "      <td>RUDNIK, VIČ, IŽANSKA CESTA, \"VIČ</td>\n",
       "      <td>32000.00</td>\n",
       "      <td>8.00</td>\n",
       "      <td>Zasebna ponudba</td>\n",
       "      <td>2004</td>\n",
       "      <td>1</td>\n",
       "    </tr>\n",
       "    <tr>\n",
       "      <th>612</th>\n",
       "      <td>6046985</td>\n",
       "      <td>LJ. MOSTE</td>\n",
       "      <td>28000.00</td>\n",
       "      <td>14.00</td>\n",
       "      <td>Zasebna ponudba</td>\n",
       "      <td>1730</td>\n",
       "      <td>4</td>\n",
       "    </tr>\n",
       "    <tr>\n",
       "      <th>613</th>\n",
       "      <td>6053946</td>\n",
       "      <td>LJ. MOSTE</td>\n",
       "      <td>22000.00</td>\n",
       "      <td>10.00</td>\n",
       "      <td>Zasebna ponudba</td>\n",
       "      <td>2000</td>\n",
       "      <td>ni podatka</td>\n",
       "    </tr>\n",
       "    <tr>\n",
       "      <th>614</th>\n",
       "      <td>6056847</td>\n",
       "      <td>LJ. CENTER, PARK TIVOLI</td>\n",
       "      <td>18000.00</td>\n",
       "      <td>8.00</td>\n",
       "      <td>Zasebna ponudba</td>\n",
       "      <td>1985</td>\n",
       "      <td>5</td>\n",
       "    </tr>\n",
       "    <tr>\n",
       "      <th>615</th>\n",
       "      <td>6026366</td>\n",
       "      <td>LJ. ŠIŠKA, ALEŠOVČEVA ULICA</td>\n",
       "      <td>16000.00</td>\n",
       "      <td>7.30</td>\n",
       "      <td>Rojal invest d.o.o.</td>\n",
       "      <td>1961</td>\n",
       "      <td>K</td>\n",
       "    </tr>\n",
       "  </tbody>\n",
       "</table>\n",
       "<p>616 rows × 7 columns</p>\n",
       "</div>"
      ],
      "text/plain": [
       "          id                                          naslov       cena  \\\n",
       "0    5952316                                       LJ. MOSTE  200000.00   \n",
       "1    5797965                                           TACEN  200000.00   \n",
       "2    5929181  LJ. BEŽIGRAD, ZUPANČIČEVA JAMA - VELIKA TERASA  200000.00   \n",
       "3    6054338                                LJ. MOSTE, ZALOG  200000.00   \n",
       "4    6060505                               VIŽMARJE, GUNCLJE  200000.00   \n",
       "5    5938232                          LJ. ŠIŠKA, MALGAJEVA 2  200000.00   \n",
       "6    5966303                   ČRNUČE, SPODNJE OKROGARJEVA 2  199365.19   \n",
       "7    6034990                          TRNOVO, TRNOVSKA VRATA  199000.00   \n",
       "8    6047368                            LJ. VIČ, VELIK ATRIJ  199000.00   \n",
       "9    6061555                                    LJ. BEŽIGRAD  199000.00   \n",
       "..       ...                                             ...        ...   \n",
       "606  6052399        DRAVLJE, CELOVŠKA CESTA BIVŠI HOTEL LIPA   45000.00   \n",
       "607  6061600                                       LJ. ŠIŠKA   45000.00   \n",
       "608  6050086                                       LJ. ŠIŠKA   42000.00   \n",
       "609  6029756                     LJ. ŠIŠKA, ALEŠOVČEVA ULICA   37000.00   \n",
       "610  6054902                                           POLJE   33000.00   \n",
       "611  6051293                RUDNIK, VIČ, IŽANSKA CESTA, \"VIČ   32000.00   \n",
       "612  6046985                                       LJ. MOSTE   28000.00   \n",
       "613  6053946                                       LJ. MOSTE   22000.00   \n",
       "614  6056847                         LJ. CENTER, PARK TIVOLI   18000.00   \n",
       "615  6026366                     LJ. ŠIŠKA, ALEŠOVČEVA ULICA   16000.00   \n",
       "\n",
       "     velikost                                   prodajalec  leto  nadstropje  \n",
       "0      118.60                  Kristal nepremičnine d.o.o.  1900           P  \n",
       "1      122.28   REMAX Vogal, Nepremičninska družba, d.o.o.  2009           2  \n",
       "2       58.60                               Eventum d.o.o.  2005          VP  \n",
       "3      108.30                    Rocco nepremičnine d.o.o.  1960           1  \n",
       "4      164.00                     Mreža nepremičnin d.o.o.  2000         P+1  \n",
       "5      110.00                              Zasebna ponudba  1986           4  \n",
       "6       99.06                      LIN nepremičnine d.o.o.  2017           2  \n",
       "7       50.90            Nepremičnine M8, Lea Kavalič s.p.  2005           1  \n",
       "8       89.00                            Euromark-a d.o.o.  2008  ni podatka  \n",
       "9       90.00  MA - nepremičninska družba, Marko Alič s.p.  1957           2  \n",
       "..        ...                                          ...   ...         ...  \n",
       "606     19.20                              Zasebna ponudba  1983           2  \n",
       "607     32.80                                   LGP d.o.o.  1965           5  \n",
       "608     20.50               DVOREC POSREDNIŠKA HIŠA d.o.o.  1933          PK  \n",
       "609     19.70                          Rojal invest d.o.o.  1961           M  \n",
       "610     39.00                              Zasebna ponudba  1935          PK  \n",
       "611      8.00                              Zasebna ponudba  2004           1  \n",
       "612     14.00                              Zasebna ponudba  1730           4  \n",
       "613     10.00                              Zasebna ponudba  2000  ni podatka  \n",
       "614      8.00                              Zasebna ponudba  1985           5  \n",
       "615      7.30                          Rojal invest d.o.o.  1961           K  \n",
       "\n",
       "[616 rows x 7 columns]"
      ]
     },
     "execution_count": 71,
     "metadata": {},
     "output_type": "execute_result"
    }
   ],
   "source": [
    "import pandas as pd\n",
    "import numpy as np\n",
    "import matplotlib.pyplot as plt\n",
    "%matplotlib inline\n",
    "\n",
    "plt.rcParams['figure.figsize'] = (15, 5)\n",
    "pd.options.display.max_rows = 20\n",
    "\n",
    "stanovanja = pd.read_csv('urejeni_oglasi1.csv', encoding = 'cp1250')\n",
    "stanovanja\n"
   ]
  },
  {
   "cell_type": "markdown",
   "metadata": {},
   "source": [
    "# 2. Osnovna obdelava podatkov"
   ]
  },
  {
   "cell_type": "code",
   "execution_count": 41,
   "metadata": {
    "collapsed": false
   },
   "outputs": [
    {
     "data": {
      "text/plain": [
       "616"
      ]
     },
     "execution_count": 41,
     "metadata": {},
     "output_type": "execute_result"
    }
   ],
   "source": [
    "st_oglasov = len(stanovanja)\n",
    "st_oglasov"
   ]
  },
  {
   "cell_type": "markdown",
   "metadata": {},
   "source": [
    "Izračunajmo povprečno ceno vseh oglasov, povprečno kvadraturo in povprečno ceno na kvadratni meter."
   ]
  },
  {
   "cell_type": "code",
   "execution_count": 42,
   "metadata": {
    "collapsed": false
   },
   "outputs": [
    {
     "name": "stdout",
     "output_type": "stream",
     "text": [
      "132195.40\n"
     ]
    }
   ],
   "source": [
    "povprecna_cena = sum(stanovanja['cena']) / st_oglasov\n",
    "print (\"%.2f\" % povprecna_cena)"
   ]
  },
  {
   "cell_type": "code",
   "execution_count": 43,
   "metadata": {
    "collapsed": false
   },
   "outputs": [
    {
     "name": "stdout",
     "output_type": "stream",
     "text": [
      "62.40\n"
     ]
    }
   ],
   "source": [
    "povprecni_m2 = sum(stanovanja['velikost']) / st_oglasov\n",
    "print(\"%.2f\" % povprecni_m2)"
   ]
  },
  {
   "cell_type": "code",
   "execution_count": 44,
   "metadata": {
    "collapsed": false
   },
   "outputs": [
    {
     "name": "stdout",
     "output_type": "stream",
     "text": [
      "2118.46\n"
     ]
    }
   ],
   "source": [
    "povprecna_cena_m2 = povprecna_cena / povprecni_m2\n",
    "print (\"%.2f\" % povprecna_cena_m2)"
   ]
  },
  {
   "cell_type": "markdown",
   "metadata": {},
   "source": [
    "V tabelo stanovanja dodajmo stolpec cena na kvadratni meter."
   ]
  },
  {
   "cell_type": "code",
   "execution_count": 45,
   "metadata": {
    "collapsed": true
   },
   "outputs": [],
   "source": [
    "stanovanja['cena na m2'] =  stanovanja['cena'] / stanovanja['velikost']\n",
    "stanovanja['cena na m2'] = stanovanja['cena na m2'].round(2)"
   ]
  },
  {
   "cell_type": "markdown",
   "metadata": {},
   "source": [
    "Poglejmo v katerem nadstropju se prodaja največ stanovanj."
   ]
  },
  {
   "cell_type": "code",
   "execution_count": 46,
   "metadata": {
    "collapsed": false
   },
   "outputs": [
    {
     "data": {
      "text/plain": [
       "1    126\n",
       "Name: nadstropje, dtype: int64"
      ]
     },
     "execution_count": 46,
     "metadata": {},
     "output_type": "execute_result"
    }
   ],
   "source": [
    "nadstropje = stanovanja['nadstropje'].value_counts()\n",
    "nadstropje[:1]"
   ]
  },
  {
   "cell_type": "markdown",
   "metadata": {},
   "source": [
    "Poglejmo katerega leta so bila zgrajena stanovanja, ki se prodajajo. Analizirajmo, koliko je stanovanj iz prejšnjega stoletja in koliko iz tekočega. Kakšna je razlika v ceni? Analiziramo le tista stanovanja, za katera je podano leto izgradnje."
   ]
  },
  {
   "cell_type": "code",
   "execution_count": 47,
   "metadata": {
    "collapsed": false
   },
   "outputs": [
    {
     "data": {
      "text/plain": [
       "2009    57\n",
       "1978    21\n",
       "2008    18\n",
       "1972    18\n",
       "1960    18\n",
       "1964    18\n",
       "2016    17\n",
       "2017    17\n",
       "1976    17\n",
       "1974    14\n",
       "Name: leto, dtype: int64"
      ]
     },
     "execution_count": 47,
     "metadata": {},
     "output_type": "execute_result"
    }
   ],
   "source": [
    "leto = stanovanja['leto'].value_counts()\n",
    "leto [:10]"
   ]
  },
  {
   "cell_type": "code",
   "execution_count": 48,
   "metadata": {
    "collapsed": false
   },
   "outputs": [
    {
     "data": {
      "text/plain": [
       "449"
      ]
     },
     "execution_count": 48,
     "metadata": {},
     "output_type": "execute_result"
    }
   ],
   "source": [
    "#koliko je stanovanj zgrajenih pred letom 2000\n",
    "stara_stanovanja = stanovanja[stanovanja.leto <= '2000']\n",
    "len(stara_stanovanja)"
   ]
  },
  {
   "cell_type": "code",
   "execution_count": 113,
   "metadata": {
    "collapsed": false
   },
   "outputs": [
    {
     "data": {
      "text/plain": [
       "2066.23"
      ]
     },
     "execution_count": 113,
     "metadata": {},
     "output_type": "execute_result"
    }
   ],
   "source": [
    "# povprečna cena na m2 stanovanj leto < 2000\n",
    "povprecna_cena_stara_stanovanja = sum(stara_stanovanja['cena']) / sum(stara_stanovanja['velikost'])\n",
    "povprecna_cena_stara_stanovanja.round(2)"
   ]
  },
  {
   "cell_type": "code",
   "execution_count": 114,
   "metadata": {
    "collapsed": false
   },
   "outputs": [
    {
     "data": {
      "text/plain": [
       "165"
      ]
     },
     "execution_count": 114,
     "metadata": {},
     "output_type": "execute_result"
    }
   ],
   "source": [
    "#koliko je stanovanj zgrajenih po letu 2000\n",
    "novejsa_stanovanja = stanovanja[stanovanja.leto > '2000']\n",
    "novejsa_stanovanja = novejsa_stanovanja[novejsa_stanovanja.leto != 'ni podatka']\n",
    "len(novejsa_stanovanja)"
   ]
  },
  {
   "cell_type": "code",
   "execution_count": 115,
   "metadata": {
    "collapsed": false
   },
   "outputs": [
    {
     "name": "stdout",
     "output_type": "stream",
     "text": [
      "2263.16\n"
     ]
    }
   ],
   "source": [
    "#povprečna cena na m2 stanovanj leto > 2000\n",
    "povprecna_cena_novejsa_stanovanja = sum(novejsa_stanovanja['cena']) / sum(novejsa_stanovanja['velikost'])\n",
    "print (\"%.2f\" % (povprecna_cena_novejsa_stanovanja))"
   ]
  },
  {
   "cell_type": "code",
   "execution_count": 116,
   "metadata": {
    "collapsed": false
   },
   "outputs": [
    {
     "name": "stdout",
     "output_type": "stream",
     "text": [
      "8.70\n"
     ]
    }
   ],
   "source": [
    "#stara stanovanja so v povprečju za 8.7% cenejša od novejših (gledano na m2)\n",
    "print (\"%.2f\" % (100 - (povprecna_cena_stara_stanovanja / povprecna_cena_novejsa_stanovanja) * 100))"
   ]
  },
  {
   "cell_type": "markdown",
   "metadata": {},
   "source": [
    "# 3. Nepremičninske agencije"
   ]
  },
  {
   "cell_type": "markdown",
   "metadata": {},
   "source": [
    "Zdaj se osredotočimo na prodajalce stanovanj oz nepremičninske agencije. Poglejmo, katere agencije prodajajo največ stanovanj, nato pa analizirajmo, kakšna so stanovanja, prodajana v zasebni ponudbi."
   ]
  },
  {
   "cell_type": "code",
   "execution_count": 53,
   "metadata": {
    "collapsed": false
   },
   "outputs": [
    {
     "data": {
      "text/plain": [
       "Zasebna ponudba                               101\n",
       "MESTO NEPREMIČNIN d.o.o.                       46\n",
       "Stoja trade, d.o.o., Ljubljana                 33\n",
       "LJUBLJANA NEPREMIČNINE d.o.o.                  30\n",
       "Mreža nepremičnin d.o.o.                       22\n",
       "REMAX Vogal, Nepremičninska družba, d.o.o.     19\n",
       "LIN nepremičnine d.o.o.                        17\n",
       "STAN nepremičnine d.o.o., Ljubljana            17\n",
       "ABC nepremičnine d.o.o.                        15\n",
       "Rojal invest d.o.o.                            14\n",
       "Name: prodajalec, dtype: int64"
      ]
     },
     "execution_count": 53,
     "metadata": {},
     "output_type": "execute_result"
    }
   ],
   "source": [
    "ponudniki = stanovanja['prodajalec'].value_counts()\n",
    "ponudniki[:10]"
   ]
  },
  {
   "cell_type": "code",
   "execution_count": 54,
   "metadata": {
    "collapsed": false
   },
   "outputs": [
    {
     "name": "stdout",
     "output_type": "stream",
     "text": [
      "2119.72\n",
      "100.06\n"
     ]
    },
    {
     "data": {
      "text/plain": [
       "74.25742574257426"
      ]
     },
     "execution_count": 54,
     "metadata": {},
     "output_type": "execute_result"
    }
   ],
   "source": [
    "zasebna_ponudba = stanovanja[stanovanja['prodajalec'].str.contains('Zasebna ponudba')]\n",
    "\n",
    "povprecna_cena_m2_zasebna_ponudba = sum(zasebna_ponudba['cena']) / sum(zasebna_ponudba['velikost'])\n",
    "print (\"%.2f\" % povprecna_cena_m2_zasebna_ponudba)\n",
    "procent = (\"%.2f\" % ((povprecna_cena_m2_zasebna_ponudba / povprecna_cena_m2) * 100))\n",
    "print (procent)\n",
    "#povprečna cena na m2 zasebnih ponudb je za manj kot 0,1% večja od povprečne cene na kvadratni meter, torej je skoraj enaka\n",
    "\n",
    "st_zasebih_ponudb_pred_2000 = len(zasebna_ponudba[zasebna_ponudba.leto <= '2000'])\n",
    "procent_zasebnih_ponudb_zgrajenih_pred_2000 = (len(zasebna_ponudba[zasebna_ponudba.leto < '2000']) / len(zasebna_ponudba)) * 100\n",
    "procent_zasebnih_ponudb_zgrajenih_pred_2000\n",
    "#74.26% zasebnih ponudb je bilo zgrajenih pred letom 2000"
   ]
  },
  {
   "cell_type": "markdown",
   "metadata": {},
   "source": [
    "Poglejmo katera agencija prodaja najdražja stanovanja. Osredotočimo se le na agencije, ki prodajajo vsaj 10 stanovanj in niso zasebna ponudba."
   ]
  },
  {
   "cell_type": "code",
   "execution_count": 55,
   "metadata": {
    "collapsed": true
   },
   "outputs": [],
   "source": [
    "agencije = stanovanja.groupby('prodajalec')\n",
    "agencije1 = agencije.count()\n",
    "\n",
    "agencije2 = agencije1[agencije1.id >= 10]"
   ]
  },
  {
   "cell_type": "code",
   "execution_count": 98,
   "metadata": {
    "collapsed": false
   },
   "outputs": [
    {
     "data": {
      "text/html": [
       "<div>\n",
       "<table border=\"1\" class=\"dataframe\">\n",
       "  <thead>\n",
       "    <tr style=\"text-align: right;\">\n",
       "      <th></th>\n",
       "      <th>povprečna cena na m2</th>\n",
       "    </tr>\n",
       "  </thead>\n",
       "  <tbody>\n",
       "    <tr>\n",
       "      <th>Rocco nepremičnine d.o.o.</th>\n",
       "      <td>2481.87</td>\n",
       "    </tr>\n",
       "    <tr>\n",
       "      <th>MESTO NEPREMIČNIN d.o.o.</th>\n",
       "      <td>2296.46</td>\n",
       "    </tr>\n",
       "    <tr>\n",
       "      <th>Rojal invest d.o.o.</th>\n",
       "      <td>2260.58</td>\n",
       "    </tr>\n",
       "    <tr>\n",
       "      <th>Mreža nepremičnin d.o.o.</th>\n",
       "      <td>2226.29</td>\n",
       "    </tr>\n",
       "    <tr>\n",
       "      <th>ABC nepremičnine d.o.o.</th>\n",
       "      <td>2193.78</td>\n",
       "    </tr>\n",
       "    <tr>\n",
       "      <th>LJUBLJANA NEPREMIČNINE d.o.o.</th>\n",
       "      <td>2137.77</td>\n",
       "    </tr>\n",
       "    <tr>\n",
       "      <th>STAN nepremičnine d.o.o., Ljubljana</th>\n",
       "      <td>2104.38</td>\n",
       "    </tr>\n",
       "    <tr>\n",
       "      <th>LIN nepremičnine d.o.o.</th>\n",
       "      <td>2059.10</td>\n",
       "    </tr>\n",
       "    <tr>\n",
       "      <th>Stoja trade, d.o.o., Ljubljana</th>\n",
       "      <td>2043.92</td>\n",
       "    </tr>\n",
       "    <tr>\n",
       "      <th>REMAX Vogal, Nepremičninska družba, d.o.o.</th>\n",
       "      <td>1714.65</td>\n",
       "    </tr>\n",
       "  </tbody>\n",
       "</table>\n",
       "</div>"
      ],
      "text/plain": [
       "                                            povprečna cena na m2\n",
       "Rocco nepremičnine d.o.o.                                2481.87\n",
       "MESTO NEPREMIČNIN d.o.o.                                 2296.46\n",
       "Rojal invest d.o.o.                                      2260.58\n",
       "Mreža nepremičnin d.o.o.                                 2226.29\n",
       "ABC nepremičnine d.o.o.                                  2193.78\n",
       "LJUBLJANA NEPREMIČNINE d.o.o.                            2137.77\n",
       "STAN nepremičnine d.o.o., Ljubljana                      2104.38\n",
       "LIN nepremičnine d.o.o.                                  2059.10\n",
       "Stoja trade, d.o.o., Ljubljana                           2043.92\n",
       "REMAX Vogal, Nepremičninska družba, d.o.o.               1714.65"
      ]
     },
     "execution_count": 98,
     "metadata": {},
     "output_type": "execute_result"
    }
   ],
   "source": [
    "agencije3 = list(agencije2.index.values)\n",
    "\n",
    "povprecna_cena_agencije = []\n",
    "for i in agencije3:\n",
    "    if i != 'Zasebna ponudba': \n",
    "        tabelca = pd.DataFrame(index=[str(i)],columns=['povprečna cena na m2'])\n",
    "        agencija = stanovanja[stanovanja['prodajalec'].str.contains(i)]\n",
    "        tabelca['povprečna cena na m2'] = sum(agencija['cena'] / sum(agencija['velikost']))\n",
    "        povprecna_cena_agencije.append(tabelca)\n",
    "    \n",
    "povprecna_cena_agencije1 = pd.concat(povprecna_cena_agencije)\n",
    "povprecna_cena_agencije1['povprečna cena na m2'] = povprecna_cena_agencije1['povprečna cena na m2'].round(2)\n",
    "povprecna_cena_agencije1.sort_values('povprečna cena na m2', ascending = False)"
   ]
  },
  {
   "cell_type": "code",
   "execution_count": 108,
   "metadata": {
    "collapsed": false
   },
   "outputs": [
    {
     "data": {
      "text/plain": [
       "<matplotlib.axes._subplots.AxesSubplot at 0x798cc5ca58>"
      ]
     },
     "execution_count": 108,
     "metadata": {},
     "output_type": "execute_result"
    },
    {
     "data": {
      "image/png": "[encoded data removed]",
      "text/plain": [
       "<matplotlib.figure.Figure at 0x798dd2f4a8>"
      ]
     },
     "metadata": {},
     "output_type": "display_data"
    }
   ],
   "source": [
    "povprecna_cena_agencije1.sort_values('povprečna cena na m2', ascending = True).plot(kind = 'barh', title = 'Nepremičninske agencije in njihove cene')"
   ]
  },
  {
   "cell_type": "markdown",
   "metadata": {},
   "source": [
    "Rocco nepremičnine d.o.o prodaja najdražja stanovanja. Pri tej agenciji za en kvadratni meter v povprečju odštejemo kar 2481.87€"
   ]
  },
  {
   "cell_type": "markdown",
   "metadata": {},
   "source": [
    "# 4. Primerjava stanovanj po upravnih enotah Ljubljane"
   ]
  },
  {
   "cell_type": "code",
   "execution_count": 64,
   "metadata": {
    "collapsed": false
   },
   "outputs": [],
   "source": [
    "predeli = [{'enota': 'BEŽIGRAD' , 'obmocja' : ['BEŽIGRAD', 'ČRNUČE', 'SAVSKO NASELJE', 'SAVLJE', 'BS 3', 'BEŽIGRAJSKI DVOR','ČRNUŠKA GMAJNA', 'ŽUPANČIČEVA JAMA', 'ZUPANČIČEVA JAMA', 'BRINJE', 'STOŽICE', 'TOMAČEVO']},\n",
    "           {'enota': 'ŠIŠKA', 'obmocja' : ['TACEN', 'ŠIŠKA', 'DRAVLJE', 'ŠENTVID', 'KOSEZE', 'PODUTIK', 'ŠMARTNO', 'PRŽAN']},\n",
    "           {'enota' : 'CENTER' , 'obmocja' : ['CENTER', 'VODMAT', 'STARA LJ', 'TABOR', 'POLJANE']},\n",
    "           {'enota' : 'VIČ-RUDNIK', 'obmocja' : ['VIČ', 'DOLGI MOST', 'RUDNIK', 'VIŽMARJE', 'RAKOVNIK', 'BROD', 'ROŽNA DOLINA', 'GALJEVICA', 'TRNOVO', 'VRHOVCI']},\n",
    "           {'enota' : 'MOSTE', 'obmocja': ['MOSTE', 'POLJE', 'ZALOG', 'VEVČE', 'JARŠE', 'BTC', 'ŠTEPANJSKO NASELJE', 'FUŽINE', 'ŠTEPANJA VAS', 'KODELJEVO', 'KAŠELJ', 'DOBRUNJE', 'SOSTRO']}\n",
    "            ]\n",
    "lala = []\n",
    "stanovanja1 = stanovanja\n",
    "for x in predeli:\n",
    "    slovar = {}\n",
    "    frames = []\n",
    "    \n",
    "    for i in x['obmocja']:\n",
    "        \n",
    "        enota = stanovanja1[stanovanja1['naslov'].str.contains(i)]\n",
    "        frames.append(enota)\n",
    "        \n",
    "    result = pd.concat(frames)\n",
    "    result1 = result.drop_duplicates(subset = 'id')\n",
    "    slovar['ue'] = x['enota']\n",
    "    slovar['tabela'] = result1\n",
    "    lala.append(slovar)\n",
    "    stanovanja1 = stanovanja1.append(result1).drop_duplicates(keep = False)\n",
    "#V seznamu lala je vsaki upravni enoti prirejena tabela, ki vsebuje vsa stanovanja, prodajana v tej upravni enoti."
   ]
  },
  {
   "cell_type": "code",
   "execution_count": 95,
   "metadata": {
    "collapsed": false
   },
   "outputs": [
    {
     "data": {
      "text/html": [
       "<div>\n",
       "<table border=\"1\" class=\"dataframe\">\n",
       "  <thead>\n",
       "    <tr style=\"text-align: right;\">\n",
       "      <th></th>\n",
       "      <th>id</th>\n",
       "      <th>naslov</th>\n",
       "      <th>cena</th>\n",
       "      <th>velikost</th>\n",
       "      <th>prodajalec</th>\n",
       "      <th>leto</th>\n",
       "      <th>nadstropje</th>\n",
       "      <th>cena na m2</th>\n",
       "      <th>upravna enota</th>\n",
       "    </tr>\n",
       "  </thead>\n",
       "  <tbody>\n",
       "    <tr>\n",
       "      <th>0</th>\n",
       "      <td>5952316</td>\n",
       "      <td>LJ. MOSTE</td>\n",
       "      <td>200000.00</td>\n",
       "      <td>118.60</td>\n",
       "      <td>Kristal nepremičnine d.o.o.</td>\n",
       "      <td>1900</td>\n",
       "      <td>P</td>\n",
       "      <td>1686.34</td>\n",
       "      <td>MOSTE</td>\n",
       "    </tr>\n",
       "    <tr>\n",
       "      <th>1</th>\n",
       "      <td>5797965</td>\n",
       "      <td>TACEN</td>\n",
       "      <td>200000.00</td>\n",
       "      <td>122.28</td>\n",
       "      <td>REMAX Vogal, Nepremičninska družba, d.o.o.</td>\n",
       "      <td>2009</td>\n",
       "      <td>2</td>\n",
       "      <td>1635.59</td>\n",
       "      <td>ŠIŠKA</td>\n",
       "    </tr>\n",
       "    <tr>\n",
       "      <th>2</th>\n",
       "      <td>5929181</td>\n",
       "      <td>LJ. BEŽIGRAD, ZUPANČIČEVA JAMA - VELIKA TERASA</td>\n",
       "      <td>200000.00</td>\n",
       "      <td>58.60</td>\n",
       "      <td>Eventum d.o.o.</td>\n",
       "      <td>2005</td>\n",
       "      <td>VP</td>\n",
       "      <td>3412.97</td>\n",
       "      <td>BEŽIGRAD</td>\n",
       "    </tr>\n",
       "    <tr>\n",
       "      <th>3</th>\n",
       "      <td>6054338</td>\n",
       "      <td>LJ. MOSTE, ZALOG</td>\n",
       "      <td>200000.00</td>\n",
       "      <td>108.30</td>\n",
       "      <td>Rocco nepremičnine d.o.o.</td>\n",
       "      <td>1960</td>\n",
       "      <td>1</td>\n",
       "      <td>1846.72</td>\n",
       "      <td>MOSTE</td>\n",
       "    </tr>\n",
       "    <tr>\n",
       "      <th>4</th>\n",
       "      <td>6060505</td>\n",
       "      <td>VIŽMARJE, GUNCLJE</td>\n",
       "      <td>200000.00</td>\n",
       "      <td>164.00</td>\n",
       "      <td>Mreža nepremičnin d.o.o.</td>\n",
       "      <td>2000</td>\n",
       "      <td>P+1</td>\n",
       "      <td>1219.51</td>\n",
       "      <td>VIČ-RUDNIK</td>\n",
       "    </tr>\n",
       "    <tr>\n",
       "      <th>5</th>\n",
       "      <td>5938232</td>\n",
       "      <td>LJ. ŠIŠKA, MALGAJEVA 2</td>\n",
       "      <td>200000.00</td>\n",
       "      <td>110.00</td>\n",
       "      <td>Zasebna ponudba</td>\n",
       "      <td>1986</td>\n",
       "      <td>4</td>\n",
       "      <td>1818.18</td>\n",
       "      <td>ŠIŠKA</td>\n",
       "    </tr>\n",
       "    <tr>\n",
       "      <th>6</th>\n",
       "      <td>5966303</td>\n",
       "      <td>ČRNUČE, SPODNJE OKROGARJEVA 2</td>\n",
       "      <td>199365.19</td>\n",
       "      <td>99.06</td>\n",
       "      <td>LIN nepremičnine d.o.o.</td>\n",
       "      <td>2017</td>\n",
       "      <td>2</td>\n",
       "      <td>2012.57</td>\n",
       "      <td>BEŽIGRAD</td>\n",
       "    </tr>\n",
       "    <tr>\n",
       "      <th>7</th>\n",
       "      <td>6034990</td>\n",
       "      <td>TRNOVO, TRNOVSKA VRATA</td>\n",
       "      <td>199000.00</td>\n",
       "      <td>50.90</td>\n",
       "      <td>Nepremičnine M8, Lea Kavalič s.p.</td>\n",
       "      <td>2005</td>\n",
       "      <td>1</td>\n",
       "      <td>3909.63</td>\n",
       "      <td>VIČ-RUDNIK</td>\n",
       "    </tr>\n",
       "    <tr>\n",
       "      <th>8</th>\n",
       "      <td>6047368</td>\n",
       "      <td>LJ. VIČ, VELIK ATRIJ</td>\n",
       "      <td>199000.00</td>\n",
       "      <td>89.00</td>\n",
       "      <td>Euromark-a d.o.o.</td>\n",
       "      <td>2008</td>\n",
       "      <td>ni podatka</td>\n",
       "      <td>2235.96</td>\n",
       "      <td>VIČ-RUDNIK</td>\n",
       "    </tr>\n",
       "    <tr>\n",
       "      <th>9</th>\n",
       "      <td>6061555</td>\n",
       "      <td>LJ. BEŽIGRAD</td>\n",
       "      <td>199000.00</td>\n",
       "      <td>90.00</td>\n",
       "      <td>MA - nepremičninska družba, Marko Alič s.p.</td>\n",
       "      <td>1957</td>\n",
       "      <td>2</td>\n",
       "      <td>2211.11</td>\n",
       "      <td>BEŽIGRAD</td>\n",
       "    </tr>\n",
       "    <tr>\n",
       "      <th>...</th>\n",
       "      <td>...</td>\n",
       "      <td>...</td>\n",
       "      <td>...</td>\n",
       "      <td>...</td>\n",
       "      <td>...</td>\n",
       "      <td>...</td>\n",
       "      <td>...</td>\n",
       "      <td>...</td>\n",
       "      <td>...</td>\n",
       "    </tr>\n",
       "    <tr>\n",
       "      <th>606</th>\n",
       "      <td>6052399</td>\n",
       "      <td>DRAVLJE, CELOVŠKA CESTA BIVŠI HOTEL LIPA</td>\n",
       "      <td>45000.00</td>\n",
       "      <td>19.20</td>\n",
       "      <td>Zasebna ponudba</td>\n",
       "      <td>1983</td>\n",
       "      <td>2</td>\n",
       "      <td>2343.75</td>\n",
       "      <td>ŠIŠKA</td>\n",
       "    </tr>\n",
       "    <tr>\n",
       "      <th>607</th>\n",
       "      <td>6061600</td>\n",
       "      <td>LJ. ŠIŠKA</td>\n",
       "      <td>45000.00</td>\n",
       "      <td>32.80</td>\n",
       "      <td>LGP d.o.o.</td>\n",
       "      <td>1965</td>\n",
       "      <td>5</td>\n",
       "      <td>1371.95</td>\n",
       "      <td>ŠIŠKA</td>\n",
       "    </tr>\n",
       "    <tr>\n",
       "      <th>608</th>\n",
       "      <td>6050086</td>\n",
       "      <td>LJ. ŠIŠKA</td>\n",
       "      <td>42000.00</td>\n",
       "      <td>20.50</td>\n",
       "      <td>DVOREC POSREDNIŠKA HIŠA d.o.o.</td>\n",
       "      <td>1933</td>\n",
       "      <td>PK</td>\n",
       "      <td>2048.78</td>\n",
       "      <td>ŠIŠKA</td>\n",
       "    </tr>\n",
       "    <tr>\n",
       "      <th>609</th>\n",
       "      <td>6029756</td>\n",
       "      <td>LJ. ŠIŠKA, ALEŠOVČEVA ULICA</td>\n",
       "      <td>37000.00</td>\n",
       "      <td>19.70</td>\n",
       "      <td>Rojal invest d.o.o.</td>\n",
       "      <td>1961</td>\n",
       "      <td>M</td>\n",
       "      <td>1878.17</td>\n",
       "      <td>ŠIŠKA</td>\n",
       "    </tr>\n",
       "    <tr>\n",
       "      <th>610</th>\n",
       "      <td>6054902</td>\n",
       "      <td>POLJE</td>\n",
       "      <td>33000.00</td>\n",
       "      <td>39.00</td>\n",
       "      <td>Zasebna ponudba</td>\n",
       "      <td>1935</td>\n",
       "      <td>PK</td>\n",
       "      <td>846.15</td>\n",
       "      <td>MOSTE</td>\n",
       "    </tr>\n",
       "    <tr>\n",
       "      <th>611</th>\n",
       "      <td>6051293</td>\n",
       "      <td>RUDNIK, VIČ, IŽANSKA CESTA, \"VIČ</td>\n",
       "      <td>32000.00</td>\n",
       "      <td>8.00</td>\n",
       "      <td>Zasebna ponudba</td>\n",
       "      <td>2004</td>\n",
       "      <td>1</td>\n",
       "      <td>4000.00</td>\n",
       "      <td>VIČ-RUDNIK</td>\n",
       "    </tr>\n",
       "    <tr>\n",
       "      <th>612</th>\n",
       "      <td>6046985</td>\n",
       "      <td>LJ. MOSTE</td>\n",
       "      <td>28000.00</td>\n",
       "      <td>14.00</td>\n",
       "      <td>Zasebna ponudba</td>\n",
       "      <td>1730</td>\n",
       "      <td>4</td>\n",
       "      <td>2000.00</td>\n",
       "      <td>MOSTE</td>\n",
       "    </tr>\n",
       "    <tr>\n",
       "      <th>613</th>\n",
       "      <td>6053946</td>\n",
       "      <td>LJ. MOSTE</td>\n",
       "      <td>22000.00</td>\n",
       "      <td>10.00</td>\n",
       "      <td>Zasebna ponudba</td>\n",
       "      <td>2000</td>\n",
       "      <td>ni podatka</td>\n",
       "      <td>2200.00</td>\n",
       "      <td>MOSTE</td>\n",
       "    </tr>\n",
       "    <tr>\n",
       "      <th>614</th>\n",
       "      <td>6056847</td>\n",
       "      <td>LJ. CENTER, PARK TIVOLI</td>\n",
       "      <td>18000.00</td>\n",
       "      <td>8.00</td>\n",
       "      <td>Zasebna ponudba</td>\n",
       "      <td>1985</td>\n",
       "      <td>5</td>\n",
       "      <td>2250.00</td>\n",
       "      <td>CENTER</td>\n",
       "    </tr>\n",
       "    <tr>\n",
       "      <th>615</th>\n",
       "      <td>6026366</td>\n",
       "      <td>LJ. ŠIŠKA, ALEŠOVČEVA ULICA</td>\n",
       "      <td>16000.00</td>\n",
       "      <td>7.30</td>\n",
       "      <td>Rojal invest d.o.o.</td>\n",
       "      <td>1961</td>\n",
       "      <td>K</td>\n",
       "      <td>2191.78</td>\n",
       "      <td>ŠIŠKA</td>\n",
       "    </tr>\n",
       "  </tbody>\n",
       "</table>\n",
       "<p>616 rows × 9 columns</p>\n",
       "</div>"
      ],
      "text/plain": [
       "          id                                          naslov       cena  \\\n",
       "0    5952316                                       LJ. MOSTE  200000.00   \n",
       "1    5797965                                           TACEN  200000.00   \n",
       "2    5929181  LJ. BEŽIGRAD, ZUPANČIČEVA JAMA - VELIKA TERASA  200000.00   \n",
       "3    6054338                                LJ. MOSTE, ZALOG  200000.00   \n",
       "4    6060505                               VIŽMARJE, GUNCLJE  200000.00   \n",
       "5    5938232                          LJ. ŠIŠKA, MALGAJEVA 2  200000.00   \n",
       "6    5966303                   ČRNUČE, SPODNJE OKROGARJEVA 2  199365.19   \n",
       "7    6034990                          TRNOVO, TRNOVSKA VRATA  199000.00   \n",
       "8    6047368                            LJ. VIČ, VELIK ATRIJ  199000.00   \n",
       "9    6061555                                    LJ. BEŽIGRAD  199000.00   \n",
       "..       ...                                             ...        ...   \n",
       "606  6052399        DRAVLJE, CELOVŠKA CESTA BIVŠI HOTEL LIPA   45000.00   \n",
       "607  6061600                                       LJ. ŠIŠKA   45000.00   \n",
       "608  6050086                                       LJ. ŠIŠKA   42000.00   \n",
       "609  6029756                     LJ. ŠIŠKA, ALEŠOVČEVA ULICA   37000.00   \n",
       "610  6054902                                           POLJE   33000.00   \n",
       "611  6051293                RUDNIK, VIČ, IŽANSKA CESTA, \"VIČ   32000.00   \n",
       "612  6046985                                       LJ. MOSTE   28000.00   \n",
       "613  6053946                                       LJ. MOSTE   22000.00   \n",
       "614  6056847                         LJ. CENTER, PARK TIVOLI   18000.00   \n",
       "615  6026366                     LJ. ŠIŠKA, ALEŠOVČEVA ULICA   16000.00   \n",
       "\n",
       "     velikost                                   prodajalec  leto  nadstropje  \\\n",
       "0      118.60                  Kristal nepremičnine d.o.o.  1900           P   \n",
       "1      122.28   REMAX Vogal, Nepremičninska družba, d.o.o.  2009           2   \n",
       "2       58.60                               Eventum d.o.o.  2005          VP   \n",
       "3      108.30                    Rocco nepremičnine d.o.o.  1960           1   \n",
       "4      164.00                     Mreža nepremičnin d.o.o.  2000         P+1   \n",
       "5      110.00                              Zasebna ponudba  1986           4   \n",
       "6       99.06                      LIN nepremičnine d.o.o.  2017           2   \n",
       "7       50.90            Nepremičnine M8, Lea Kavalič s.p.  2005           1   \n",
       "8       89.00                            Euromark-a d.o.o.  2008  ni podatka   \n",
       "9       90.00  MA - nepremičninska družba, Marko Alič s.p.  1957           2   \n",
       "..        ...                                          ...   ...         ...   \n",
       "606     19.20                              Zasebna ponudba  1983           2   \n",
       "607     32.80                                   LGP d.o.o.  1965           5   \n",
       "608     20.50               DVOREC POSREDNIŠKA HIŠA d.o.o.  1933          PK   \n",
       "609     19.70                          Rojal invest d.o.o.  1961           M   \n",
       "610     39.00                              Zasebna ponudba  1935          PK   \n",
       "611      8.00                              Zasebna ponudba  2004           1   \n",
       "612     14.00                              Zasebna ponudba  1730           4   \n",
       "613     10.00                              Zasebna ponudba  2000  ni podatka   \n",
       "614      8.00                              Zasebna ponudba  1985           5   \n",
       "615      7.30                          Rojal invest d.o.o.  1961           K   \n",
       "\n",
       "     cena na m2 upravna enota  \n",
       "0       1686.34         MOSTE  \n",
       "1       1635.59         ŠIŠKA  \n",
       "2       3412.97      BEŽIGRAD  \n",
       "3       1846.72         MOSTE  \n",
       "4       1219.51    VIČ-RUDNIK  \n",
       "5       1818.18         ŠIŠKA  \n",
       "6       2012.57      BEŽIGRAD  \n",
       "7       3909.63    VIČ-RUDNIK  \n",
       "8       2235.96    VIČ-RUDNIK  \n",
       "9       2211.11      BEŽIGRAD  \n",
       "..          ...           ...  \n",
       "606     2343.75         ŠIŠKA  \n",
       "607     1371.95         ŠIŠKA  \n",
       "608     2048.78         ŠIŠKA  \n",
       "609     1878.17         ŠIŠKA  \n",
       "610      846.15         MOSTE  \n",
       "611     4000.00    VIČ-RUDNIK  \n",
       "612     2000.00         MOSTE  \n",
       "613     2200.00         MOSTE  \n",
       "614     2250.00        CENTER  \n",
       "615     2191.78         ŠIŠKA  \n",
       "\n",
       "[616 rows x 9 columns]"
      ]
     },
     "execution_count": 95,
     "metadata": {},
     "output_type": "execute_result"
    }
   ],
   "source": [
    "#preverimo, da so se vsa stanovanja razporedila\n",
    "frames = []\n",
    "for i in lala:\n",
    "    frames.append(i['tabela'])\n",
    "    \n",
    "result = pd.concat(frames)\n",
    "result1 = result.drop_duplicates()\n",
    "result1.sort_index()"
   ]
  },
  {
   "cell_type": "markdown",
   "metadata": {},
   "source": [
    "Za vsako upravno enoto nas zanima koliko je tam prodajanih stanovanj, kakšna je povprečna cena posamezne enote (in v primerjavi s povprečno ceno vseh prodajanih stanovanj), kakšna je povprečna cena na kvadratni meter in kakšna je povprečna velikost."
   ]
  },
  {
   "cell_type": "code",
   "execution_count": 101,
   "metadata": {
    "collapsed": false
   },
   "outputs": [
    {
     "data": {
      "text/html": [
       "<div>\n",
       "<table border=\"1\" class=\"dataframe\">\n",
       "  <thead>\n",
       "    <tr style=\"text-align: right;\">\n",
       "      <th></th>\n",
       "      <th>št stanovanj</th>\n",
       "      <th>povprečna cena</th>\n",
       "      <th>% od povprečne cene</th>\n",
       "      <th>povprečna cena na m2</th>\n",
       "      <th>povprečna velikost</th>\n",
       "    </tr>\n",
       "  </thead>\n",
       "  <tbody>\n",
       "    <tr>\n",
       "      <th>ŠIŠKA</th>\n",
       "      <td>191</td>\n",
       "      <td>124695.07</td>\n",
       "      <td>94.33</td>\n",
       "      <td>2032.80</td>\n",
       "      <td>61.34</td>\n",
       "    </tr>\n",
       "    <tr>\n",
       "      <th>BEŽIGRAD</th>\n",
       "      <td>166</td>\n",
       "      <td>141271.53</td>\n",
       "      <td>106.87</td>\n",
       "      <td>2217.56</td>\n",
       "      <td>63.71</td>\n",
       "    </tr>\n",
       "    <tr>\n",
       "      <th>MOSTE</th>\n",
       "      <td>112</td>\n",
       "      <td>124943.75</td>\n",
       "      <td>94.51</td>\n",
       "      <td>2040.44</td>\n",
       "      <td>61.23</td>\n",
       "    </tr>\n",
       "    <tr>\n",
       "      <th>VIČ-RUDNIK</th>\n",
       "      <td>85</td>\n",
       "      <td>139867.42</td>\n",
       "      <td>105.80</td>\n",
       "      <td>1996.23</td>\n",
       "      <td>70.07</td>\n",
       "    </tr>\n",
       "    <tr>\n",
       "      <th>CENTER</th>\n",
       "      <td>62</td>\n",
       "      <td>133582.26</td>\n",
       "      <td>101.05</td>\n",
       "      <td>2483.92</td>\n",
       "      <td>53.78</td>\n",
       "    </tr>\n",
       "  </tbody>\n",
       "</table>\n",
       "</div>"
      ],
      "text/plain": [
       "            št stanovanj povprečna cena % od povprečne cene  \\\n",
       "ŠIŠKA                191      124695.07               94.33   \n",
       "BEŽIGRAD             166      141271.53              106.87   \n",
       "MOSTE                112      124943.75               94.51   \n",
       "VIČ-RUDNIK            85      139867.42              105.80   \n",
       "CENTER                62      133582.26              101.05   \n",
       "\n",
       "           povprečna cena na m2 povprečna velikost  \n",
       "ŠIŠKA                   2032.80              61.34  \n",
       "BEŽIGRAD                2217.56              63.71  \n",
       "MOSTE                   2040.44              61.23  \n",
       "VIČ-RUDNIK              1996.23              70.07  \n",
       "CENTER                  2483.92              53.78  "
      ]
     },
     "execution_count": 101,
     "metadata": {},
     "output_type": "execute_result"
    }
   ],
   "source": [
    "povprecne = []\n",
    "for i in lala:\n",
    "    povprecna = pd.DataFrame(index=[str(i['ue'])],columns=['št stanovanj', 'povprečna cena', '% od povprečne cene', 'povprečna cena na m2', 'povprečna velikost'])\n",
    "    povprecna['št stanovanj'] = int(len(i['tabela']))\n",
    "    povprecna['povprečna cena'] = (\"%.2f\" % (sum(i['tabela']['cena']) / len(i['tabela'])))\n",
    "    povprecna['% od povprečne cene'] = (\"%.2f\" %  (((sum(i['tabela']['cena']) / len(i['tabela'])) / povprecna_cena) * 100))\n",
    "    povprecna['povprečna cena na m2'] = (\"%.2f\" %  (sum(i['tabela']['cena']) / sum(i['tabela']['velikost'])))\n",
    "    povprecna['povprečna velikost'] = (\"%.2f\" %  (sum(i['tabela']['velikost']) / len(i['tabela'])))\n",
    "    povprecne.append(povprecna)\n",
    "povprecne1 = pd.concat(povprecne)\n",
    "povprecne1.sort_values('št stanovanj', ascending = False)"
   ]
  },
  {
   "cell_type": "code",
   "execution_count": 109,
   "metadata": {
    "collapsed": false
   },
   "outputs": [
    {
     "data": {
      "text/plain": [
       "<matplotlib.axes._subplots.AxesSubplot at 0x798de3e438>"
      ]
     },
     "execution_count": 109,
     "metadata": {},
     "output_type": "execute_result"
    },
    {
     "data": {
      "image/png": "[encoded data removed]",
      "text/plain": [
       "<matplotlib.figure.Figure at 0x798dea1c88>"
      ]
     },
     "metadata": {},
     "output_type": "display_data"
    }
   ],
   "source": [
    "povprecne1['št stanovanj'].astype(float).plot(kind='pie', title='Št. stanovanj po upravnih enotah Ljubljane')"
   ]
  },
  {
   "cell_type": "code",
   "execution_count": 110,
   "metadata": {
    "collapsed": false
   },
   "outputs": [
    {
     "data": {
      "text/plain": [
       "<matplotlib.axes._subplots.AxesSubplot at 0x798de20588>"
      ]
     },
     "execution_count": 110,
     "metadata": {},
     "output_type": "execute_result"
    },
    {
     "data": {
      "image/png": "[encoded data removed]",
      "text/plain": [
       "<matplotlib.figure.Figure at 0x798dec4358>"
      ]
     },
     "metadata": {},
     "output_type": "display_data"
    }
   ],
   "source": [
    "povprecne1['povprečna cena na m2'].astype(float).plot(kind = 'bar', title = 'Najdražja stanovanja')"
   ]
  },
  {
   "cell_type": "code",
   "execution_count": 111,
   "metadata": {
    "collapsed": false
   },
   "outputs": [
    {
     "data": {
      "text/plain": [
       "<matplotlib.axes._subplots.AxesSubplot at 0x798df2aef0>"
      ]
     },
     "execution_count": 111,
     "metadata": {},
     "output_type": "execute_result"
    },
    {
     "data": {
      "image/png": "[encoded data removed]",
      "text/plain": [
       "<matplotlib.figure.Figure at 0x798df746d8>"
      ]
     },
     "metadata": {},
     "output_type": "display_data"
    }
   ],
   "source": [
    "povprecne1['povprečna velikost'].astype(float).plot(kind = 'bar', title = 'Največja stanovanja')"
   ]
  },
  {
   "cell_type": "markdown",
   "metadata": {},
   "source": [
    "Ugotovitve:\n",
    "1. V Šiški se prodaja največ stanovanj\n",
    "2. V centru so stanovanja najdražja in najmanjša\n",
    "3. Vič-Rudnik ima najcenejša in največja stanovanja"
   ]
  },
  {
   "cell_type": "markdown",
   "metadata": {},
   "source": [
    "Dodajmo zdaj v tabelo stanovanja še stolpec upravna enota."
   ]
  },
  {
   "cell_type": "code",
   "execution_count": 97,
   "metadata": {
    "collapsed": false
   },
   "outputs": [
    {
     "data": {
      "text/html": [
       "<div>\n",
       "<table border=\"1\" class=\"dataframe\">\n",
       "  <thead>\n",
       "    <tr style=\"text-align: right;\">\n",
       "      <th></th>\n",
       "      <th>id</th>\n",
       "      <th>naslov</th>\n",
       "      <th>cena</th>\n",
       "      <th>velikost</th>\n",
       "      <th>prodajalec</th>\n",
       "      <th>leto</th>\n",
       "      <th>nadstropje</th>\n",
       "      <th>cena na m2</th>\n",
       "      <th>upravna enota</th>\n",
       "    </tr>\n",
       "  </thead>\n",
       "  <tbody>\n",
       "    <tr>\n",
       "      <th>0</th>\n",
       "      <td>5952316</td>\n",
       "      <td>LJ. MOSTE</td>\n",
       "      <td>200000.00</td>\n",
       "      <td>118.60</td>\n",
       "      <td>Kristal nepremičnine d.o.o.</td>\n",
       "      <td>1900</td>\n",
       "      <td>P</td>\n",
       "      <td>1686.34</td>\n",
       "      <td>MOSTE</td>\n",
       "    </tr>\n",
       "    <tr>\n",
       "      <th>1</th>\n",
       "      <td>5797965</td>\n",
       "      <td>TACEN</td>\n",
       "      <td>200000.00</td>\n",
       "      <td>122.28</td>\n",
       "      <td>REMAX Vogal, Nepremičninska družba, d.o.o.</td>\n",
       "      <td>2009</td>\n",
       "      <td>2</td>\n",
       "      <td>1635.59</td>\n",
       "      <td>ŠIŠKA</td>\n",
       "    </tr>\n",
       "    <tr>\n",
       "      <th>2</th>\n",
       "      <td>5929181</td>\n",
       "      <td>LJ. BEŽIGRAD, ZUPANČIČEVA JAMA - VELIKA TERASA</td>\n",
       "      <td>200000.00</td>\n",
       "      <td>58.60</td>\n",
       "      <td>Eventum d.o.o.</td>\n",
       "      <td>2005</td>\n",
       "      <td>VP</td>\n",
       "      <td>3412.97</td>\n",
       "      <td>BEŽIGRAD</td>\n",
       "    </tr>\n",
       "    <tr>\n",
       "      <th>3</th>\n",
       "      <td>6054338</td>\n",
       "      <td>LJ. MOSTE, ZALOG</td>\n",
       "      <td>200000.00</td>\n",
       "      <td>108.30</td>\n",
       "      <td>Rocco nepremičnine d.o.o.</td>\n",
       "      <td>1960</td>\n",
       "      <td>1</td>\n",
       "      <td>1846.72</td>\n",
       "      <td>MOSTE</td>\n",
       "    </tr>\n",
       "    <tr>\n",
       "      <th>4</th>\n",
       "      <td>6060505</td>\n",
       "      <td>VIŽMARJE, GUNCLJE</td>\n",
       "      <td>200000.00</td>\n",
       "      <td>164.00</td>\n",
       "      <td>Mreža nepremičnin d.o.o.</td>\n",
       "      <td>2000</td>\n",
       "      <td>P+1</td>\n",
       "      <td>1219.51</td>\n",
       "      <td>VIČ-RUDNIK</td>\n",
       "    </tr>\n",
       "    <tr>\n",
       "      <th>5</th>\n",
       "      <td>5938232</td>\n",
       "      <td>LJ. ŠIŠKA, MALGAJEVA 2</td>\n",
       "      <td>200000.00</td>\n",
       "      <td>110.00</td>\n",
       "      <td>Zasebna ponudba</td>\n",
       "      <td>1986</td>\n",
       "      <td>4</td>\n",
       "      <td>1818.18</td>\n",
       "      <td>ŠIŠKA</td>\n",
       "    </tr>\n",
       "    <tr>\n",
       "      <th>6</th>\n",
       "      <td>5966303</td>\n",
       "      <td>ČRNUČE, SPODNJE OKROGARJEVA 2</td>\n",
       "      <td>199365.19</td>\n",
       "      <td>99.06</td>\n",
       "      <td>LIN nepremičnine d.o.o.</td>\n",
       "      <td>2017</td>\n",
       "      <td>2</td>\n",
       "      <td>2012.57</td>\n",
       "      <td>BEŽIGRAD</td>\n",
       "    </tr>\n",
       "    <tr>\n",
       "      <th>7</th>\n",
       "      <td>6034990</td>\n",
       "      <td>TRNOVO, TRNOVSKA VRATA</td>\n",
       "      <td>199000.00</td>\n",
       "      <td>50.90</td>\n",
       "      <td>Nepremičnine M8, Lea Kavalič s.p.</td>\n",
       "      <td>2005</td>\n",
       "      <td>1</td>\n",
       "      <td>3909.63</td>\n",
       "      <td>VIČ-RUDNIK</td>\n",
       "    </tr>\n",
       "    <tr>\n",
       "      <th>8</th>\n",
       "      <td>6047368</td>\n",
       "      <td>LJ. VIČ, VELIK ATRIJ</td>\n",
       "      <td>199000.00</td>\n",
       "      <td>89.00</td>\n",
       "      <td>Euromark-a d.o.o.</td>\n",
       "      <td>2008</td>\n",
       "      <td>ni podatka</td>\n",
       "      <td>2235.96</td>\n",
       "      <td>VIČ-RUDNIK</td>\n",
       "    </tr>\n",
       "    <tr>\n",
       "      <th>9</th>\n",
       "      <td>6061555</td>\n",
       "      <td>LJ. BEŽIGRAD</td>\n",
       "      <td>199000.00</td>\n",
       "      <td>90.00</td>\n",
       "      <td>MA - nepremičninska družba, Marko Alič s.p.</td>\n",
       "      <td>1957</td>\n",
       "      <td>2</td>\n",
       "      <td>2211.11</td>\n",
       "      <td>BEŽIGRAD</td>\n",
       "    </tr>\n",
       "    <tr>\n",
       "      <th>...</th>\n",
       "      <td>...</td>\n",
       "      <td>...</td>\n",
       "      <td>...</td>\n",
       "      <td>...</td>\n",
       "      <td>...</td>\n",
       "      <td>...</td>\n",
       "      <td>...</td>\n",
       "      <td>...</td>\n",
       "      <td>...</td>\n",
       "    </tr>\n",
       "    <tr>\n",
       "      <th>606</th>\n",
       "      <td>6052399</td>\n",
       "      <td>DRAVLJE, CELOVŠKA CESTA BIVŠI HOTEL LIPA</td>\n",
       "      <td>45000.00</td>\n",
       "      <td>19.20</td>\n",
       "      <td>Zasebna ponudba</td>\n",
       "      <td>1983</td>\n",
       "      <td>2</td>\n",
       "      <td>2343.75</td>\n",
       "      <td>ŠIŠKA</td>\n",
       "    </tr>\n",
       "    <tr>\n",
       "      <th>607</th>\n",
       "      <td>6061600</td>\n",
       "      <td>LJ. ŠIŠKA</td>\n",
       "      <td>45000.00</td>\n",
       "      <td>32.80</td>\n",
       "      <td>LGP d.o.o.</td>\n",
       "      <td>1965</td>\n",
       "      <td>5</td>\n",
       "      <td>1371.95</td>\n",
       "      <td>ŠIŠKA</td>\n",
       "    </tr>\n",
       "    <tr>\n",
       "      <th>608</th>\n",
       "      <td>6050086</td>\n",
       "      <td>LJ. ŠIŠKA</td>\n",
       "      <td>42000.00</td>\n",
       "      <td>20.50</td>\n",
       "      <td>DVOREC POSREDNIŠKA HIŠA d.o.o.</td>\n",
       "      <td>1933</td>\n",
       "      <td>PK</td>\n",
       "      <td>2048.78</td>\n",
       "      <td>ŠIŠKA</td>\n",
       "    </tr>\n",
       "    <tr>\n",
       "      <th>609</th>\n",
       "      <td>6029756</td>\n",
       "      <td>LJ. ŠIŠKA, ALEŠOVČEVA ULICA</td>\n",
       "      <td>37000.00</td>\n",
       "      <td>19.70</td>\n",
       "      <td>Rojal invest d.o.o.</td>\n",
       "      <td>1961</td>\n",
       "      <td>M</td>\n",
       "      <td>1878.17</td>\n",
       "      <td>ŠIŠKA</td>\n",
       "    </tr>\n",
       "    <tr>\n",
       "      <th>610</th>\n",
       "      <td>6054902</td>\n",
       "      <td>POLJE</td>\n",
       "      <td>33000.00</td>\n",
       "      <td>39.00</td>\n",
       "      <td>Zasebna ponudba</td>\n",
       "      <td>1935</td>\n",
       "      <td>PK</td>\n",
       "      <td>846.15</td>\n",
       "      <td>MOSTE</td>\n",
       "    </tr>\n",
       "    <tr>\n",
       "      <th>611</th>\n",
       "      <td>6051293</td>\n",
       "      <td>RUDNIK, VIČ, IŽANSKA CESTA, \"VIČ</td>\n",
       "      <td>32000.00</td>\n",
       "      <td>8.00</td>\n",
       "      <td>Zasebna ponudba</td>\n",
       "      <td>2004</td>\n",
       "      <td>1</td>\n",
       "      <td>4000.00</td>\n",
       "      <td>VIČ-RUDNIK</td>\n",
       "    </tr>\n",
       "    <tr>\n",
       "      <th>612</th>\n",
       "      <td>6046985</td>\n",
       "      <td>LJ. MOSTE</td>\n",
       "      <td>28000.00</td>\n",
       "      <td>14.00</td>\n",
       "      <td>Zasebna ponudba</td>\n",
       "      <td>1730</td>\n",
       "      <td>4</td>\n",
       "      <td>2000.00</td>\n",
       "      <td>MOSTE</td>\n",
       "    </tr>\n",
       "    <tr>\n",
       "      <th>613</th>\n",
       "      <td>6053946</td>\n",
       "      <td>LJ. MOSTE</td>\n",
       "      <td>22000.00</td>\n",
       "      <td>10.00</td>\n",
       "      <td>Zasebna ponudba</td>\n",
       "      <td>2000</td>\n",
       "      <td>ni podatka</td>\n",
       "      <td>2200.00</td>\n",
       "      <td>MOSTE</td>\n",
       "    </tr>\n",
       "    <tr>\n",
       "      <th>614</th>\n",
       "      <td>6056847</td>\n",
       "      <td>LJ. CENTER, PARK TIVOLI</td>\n",
       "      <td>18000.00</td>\n",
       "      <td>8.00</td>\n",
       "      <td>Zasebna ponudba</td>\n",
       "      <td>1985</td>\n",
       "      <td>5</td>\n",
       "      <td>2250.00</td>\n",
       "      <td>CENTER</td>\n",
       "    </tr>\n",
       "    <tr>\n",
       "      <th>615</th>\n",
       "      <td>6026366</td>\n",
       "      <td>LJ. ŠIŠKA, ALEŠOVČEVA ULICA</td>\n",
       "      <td>16000.00</td>\n",
       "      <td>7.30</td>\n",
       "      <td>Rojal invest d.o.o.</td>\n",
       "      <td>1961</td>\n",
       "      <td>K</td>\n",
       "      <td>2191.78</td>\n",
       "      <td>ŠIŠKA</td>\n",
       "    </tr>\n",
       "  </tbody>\n",
       "</table>\n",
       "<p>616 rows × 9 columns</p>\n",
       "</div>"
      ],
      "text/plain": [
       "          id                                          naslov       cena  \\\n",
       "0    5952316                                       LJ. MOSTE  200000.00   \n",
       "1    5797965                                           TACEN  200000.00   \n",
       "2    5929181  LJ. BEŽIGRAD, ZUPANČIČEVA JAMA - VELIKA TERASA  200000.00   \n",
       "3    6054338                                LJ. MOSTE, ZALOG  200000.00   \n",
       "4    6060505                               VIŽMARJE, GUNCLJE  200000.00   \n",
       "5    5938232                          LJ. ŠIŠKA, MALGAJEVA 2  200000.00   \n",
       "6    5966303                   ČRNUČE, SPODNJE OKROGARJEVA 2  199365.19   \n",
       "7    6034990                          TRNOVO, TRNOVSKA VRATA  199000.00   \n",
       "8    6047368                            LJ. VIČ, VELIK ATRIJ  199000.00   \n",
       "9    6061555                                    LJ. BEŽIGRAD  199000.00   \n",
       "..       ...                                             ...        ...   \n",
       "606  6052399        DRAVLJE, CELOVŠKA CESTA BIVŠI HOTEL LIPA   45000.00   \n",
       "607  6061600                                       LJ. ŠIŠKA   45000.00   \n",
       "608  6050086                                       LJ. ŠIŠKA   42000.00   \n",
       "609  6029756                     LJ. ŠIŠKA, ALEŠOVČEVA ULICA   37000.00   \n",
       "610  6054902                                           POLJE   33000.00   \n",
       "611  6051293                RUDNIK, VIČ, IŽANSKA CESTA, \"VIČ   32000.00   \n",
       "612  6046985                                       LJ. MOSTE   28000.00   \n",
       "613  6053946                                       LJ. MOSTE   22000.00   \n",
       "614  6056847                         LJ. CENTER, PARK TIVOLI   18000.00   \n",
       "615  6026366                     LJ. ŠIŠKA, ALEŠOVČEVA ULICA   16000.00   \n",
       "\n",
       "     velikost                                   prodajalec  leto  nadstropje  \\\n",
       "0      118.60                  Kristal nepremičnine d.o.o.  1900           P   \n",
       "1      122.28   REMAX Vogal, Nepremičninska družba, d.o.o.  2009           2   \n",
       "2       58.60                               Eventum d.o.o.  2005          VP   \n",
       "3      108.30                    Rocco nepremičnine d.o.o.  1960           1   \n",
       "4      164.00                     Mreža nepremičnin d.o.o.  2000         P+1   \n",
       "5      110.00                              Zasebna ponudba  1986           4   \n",
       "6       99.06                      LIN nepremičnine d.o.o.  2017           2   \n",
       "7       50.90            Nepremičnine M8, Lea Kavalič s.p.  2005           1   \n",
       "8       89.00                            Euromark-a d.o.o.  2008  ni podatka   \n",
       "9       90.00  MA - nepremičninska družba, Marko Alič s.p.  1957           2   \n",
       "..        ...                                          ...   ...         ...   \n",
       "606     19.20                              Zasebna ponudba  1983           2   \n",
       "607     32.80                                   LGP d.o.o.  1965           5   \n",
       "608     20.50               DVOREC POSREDNIŠKA HIŠA d.o.o.  1933          PK   \n",
       "609     19.70                          Rojal invest d.o.o.  1961           M   \n",
       "610     39.00                              Zasebna ponudba  1935          PK   \n",
       "611      8.00                              Zasebna ponudba  2004           1   \n",
       "612     14.00                              Zasebna ponudba  1730           4   \n",
       "613     10.00                              Zasebna ponudba  2000  ni podatka   \n",
       "614      8.00                              Zasebna ponudba  1985           5   \n",
       "615      7.30                          Rojal invest d.o.o.  1961           K   \n",
       "\n",
       "     cena na m2 upravna enota  \n",
       "0       1686.34         MOSTE  \n",
       "1       1635.59         ŠIŠKA  \n",
       "2       3412.97      BEŽIGRAD  \n",
       "3       1846.72         MOSTE  \n",
       "4       1219.51    VIČ-RUDNIK  \n",
       "5       1818.18         ŠIŠKA  \n",
       "6       2012.57      BEŽIGRAD  \n",
       "7       3909.63    VIČ-RUDNIK  \n",
       "8       2235.96    VIČ-RUDNIK  \n",
       "9       2211.11      BEŽIGRAD  \n",
       "..          ...           ...  \n",
       "606     2343.75         ŠIŠKA  \n",
       "607     1371.95         ŠIŠKA  \n",
       "608     2048.78         ŠIŠKA  \n",
       "609     1878.17         ŠIŠKA  \n",
       "610      846.15         MOSTE  \n",
       "611     4000.00    VIČ-RUDNIK  \n",
       "612     2000.00         MOSTE  \n",
       "613     2200.00         MOSTE  \n",
       "614     2250.00        CENTER  \n",
       "615     2191.78         ŠIŠKA  \n",
       "\n",
       "[616 rows x 9 columns]"
      ]
     },
     "execution_count": 97,
     "metadata": {},
     "output_type": "execute_result"
    }
   ],
   "source": [
    "stanovanja0 = []\n",
    "for i in lala:\n",
    "    i['tabela']['upravna enota'] = str(i['ue'])\n",
    "    stanovanja0.append(i['tabela'])\n",
    "stanovanja = pd.concat(stanovanja0)\n",
    "stanovanja.sort_index()    "
   ]
  },
  {
   "cell_type": "markdown",
   "metadata": {},
   "source": [
    "Ada Šadl Praprotnik"
   ]
  }
 ],
 "metadata": {
  "anaconda-cloud": {},
  "kernelspec": {
   "display_name": "Python [default]",
   "language": "python",
   "name": "python3"
  },
  "language_info": {
   "codemirror_mode": {
    "name": "ipython",
    "version": 3
   },
   "file_extension": ".py",
   "mimetype": "text/x-python",
   "name": "python",
   "nbconvert_exporter": "python",
   "pygments_lexer": "ipython3",
   "version": "3.5.2"
  }
 },
 "nbformat": 4,
 "nbformat_minor": 1
}
